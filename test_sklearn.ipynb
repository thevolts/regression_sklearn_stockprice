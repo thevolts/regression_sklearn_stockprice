{
 "cells": [
  {
   "cell_type": "code",
   "execution_count": 2,
   "metadata": {
    "pycharm": {
     "is_executing": false
    }
   },
   "outputs": [],
   "source": [
    "#imports\n",
    "import numpy as np\n",
    "import pandas as pd\n",
    "import matplotlib.pyplot as plt\n",
    "from pandas_datareader import data as pdr\n",
    "import yfinance as yf\n",
    "%matplotlib inline\n",
    "import matplotlib.pyplot as plt\n",
    "from matplotlib import style\n",
    "import math\n",
    "from sklearn import preprocessing\n",
    "# Adjusting the size of matplotlib\n",
    "import matplotlib as mpl\n",
    "import datetime"
   ]
  },
  {
   "cell_type": "code",
   "execution_count": 5,
   "metadata": {
    "pycharm": {
     "is_executing": false,
     "name": "#%%\n"
    }
   },
   "outputs": [
    {
     "name": "stdout",
     "output_type": "stream",
     "text": [
      "[*********************100%***********************]  1 of 1 downloaded\n"
     ]
    },
    {
     "data": {
      "text/html": [
       "<div>\n",
       "<style scoped>\n",
       "    .dataframe tbody tr th:only-of-type {\n",
       "        vertical-align: middle;\n",
       "    }\n",
       "\n",
       "    .dataframe tbody tr th {\n",
       "        vertical-align: top;\n",
       "    }\n",
       "\n",
       "    .dataframe thead th {\n",
       "        text-align: right;\n",
       "    }\n",
       "</style>\n",
       "<table border=\"1\" class=\"dataframe\">\n",
       "  <thead>\n",
       "    <tr style=\"text-align: right;\">\n",
       "      <th></th>\n",
       "      <th>Date</th>\n",
       "      <th>Open</th>\n",
       "      <th>High</th>\n",
       "      <th>Low</th>\n",
       "      <th>Close</th>\n",
       "      <th>Adj Close</th>\n",
       "      <th>Volume</th>\n",
       "    </tr>\n",
       "  </thead>\n",
       "  <tbody>\n",
       "    <tr>\n",
       "      <td>0</td>\n",
       "      <td>2008-12-31</td>\n",
       "      <td>12.28</td>\n",
       "      <td>12.53</td>\n",
       "      <td>12.19</td>\n",
       "      <td>12.19</td>\n",
       "      <td>10.64</td>\n",
       "      <td>151885300</td>\n",
       "    </tr>\n",
       "    <tr>\n",
       "      <td>1</td>\n",
       "      <td>2009-01-02</td>\n",
       "      <td>12.27</td>\n",
       "      <td>13.01</td>\n",
       "      <td>12.17</td>\n",
       "      <td>12.96</td>\n",
       "      <td>11.31</td>\n",
       "      <td>186503800</td>\n",
       "    </tr>\n",
       "    <tr>\n",
       "      <td>2</td>\n",
       "      <td>2009-01-05</td>\n",
       "      <td>13.31</td>\n",
       "      <td>13.74</td>\n",
       "      <td>13.24</td>\n",
       "      <td>13.51</td>\n",
       "      <td>11.79</td>\n",
       "      <td>295402100</td>\n",
       "    </tr>\n",
       "    <tr>\n",
       "      <td>3</td>\n",
       "      <td>2009-01-06</td>\n",
       "      <td>13.71</td>\n",
       "      <td>13.88</td>\n",
       "      <td>13.20</td>\n",
       "      <td>13.29</td>\n",
       "      <td>11.60</td>\n",
       "      <td>322327600</td>\n",
       "    </tr>\n",
       "    <tr>\n",
       "      <td>4</td>\n",
       "      <td>2009-01-07</td>\n",
       "      <td>13.12</td>\n",
       "      <td>13.21</td>\n",
       "      <td>12.89</td>\n",
       "      <td>13.00</td>\n",
       "      <td>11.35</td>\n",
       "      <td>188262200</td>\n",
       "    </tr>\n",
       "  </tbody>\n",
       "</table>\n",
       "</div>"
      ],
      "text/plain": [
       "        Date   Open   High    Low  Close  Adj Close     Volume\n",
       "0 2008-12-31  12.28  12.53  12.19  12.19      10.64  151885300\n",
       "1 2009-01-02  12.27  13.01  12.17  12.96      11.31  186503800\n",
       "2 2009-01-05  13.31  13.74  13.24  13.51      11.79  295402100\n",
       "3 2009-01-06  13.71  13.88  13.20  13.29      11.60  322327600\n",
       "4 2009-01-07  13.12  13.21  12.89  13.00      11.35  188262200"
      ]
     },
     "execution_count": 5,
     "metadata": {},
     "output_type": "execute_result"
    }
   ],
   "source": [
    "yf.pdr_override()\n",
    "df_full = pdr.get_data_yahoo(\"AAPL\", start=\"2009-01-01\").reset_index()\n",
    "# df_full.to_csv('output/AAPL.csv',index=False)\n",
    "df_full.head()"
   ]
  },
  {
   "cell_type": "markdown",
   "metadata": {
    "pycharm": {
     "is_executing": false,
     "name": "#%%\n"
    }
   },
   "source": [
    "# Plot Moving Average¶\n",
    "\n",
    "Rollin mean/Moving Average smoothsout our price data by creating a constantly updated average price\n",
    "\n"
   ]
  },
  {
   "cell_type": "code",
   "execution_count": 6,
   "metadata": {},
   "outputs": [
    {
     "data": {
      "text/plain": [
       "<matplotlib.legend.Legend at 0x1a1c66ed50>"
      ]
     },
     "execution_count": 6,
     "metadata": {},
     "output_type": "execute_result"
    },
    {
     "data": {
      "image/png": "[encoded data removed]",
      "text/plain": [
       "<Figure size 576x504 with 1 Axes>"
      ]
     },
     "metadata": {},
     "output_type": "display_data"
    }
   ],
   "source": [
    "adj_close_px = df_full['Adj Close']\n",
    "close_px = df_full['Close']\n",
    "mpl.rc('figure', figsize=(8, 7))\n",
    "mpl.__version__\n",
    "\n",
    "# Adjusting the style of matplotlib\n",
    "style.use('ggplot')\n",
    "\n",
    "close_px.plot(label='Close')\n",
    "adj_close_px.plot(label='Adj Close')\n",
    "plt.legend()"
   ]
  },
  {
   "cell_type": "code",
   "execution_count": 7,
   "metadata": {},
   "outputs": [],
   "source": [
    "\n",
    "close_px = df_full['Close']\n",
    "mavg = close_px.rolling(window=100).mean()"
   ]
  },
  {
   "cell_type": "code",
   "execution_count": 8,
   "metadata": {},
   "outputs": [
    {
     "data": {
      "text/plain": [
       "<matplotlib.legend.Legend at 0x1a1c688c50>"
      ]
     },
     "execution_count": 8,
     "metadata": {},
     "output_type": "execute_result"
    },
    {
     "data": {
      "image/png": "[encoded data removed]",
      "text/plain": [
       "<Figure size 576x504 with 1 Axes>"
      ]
     },
     "metadata": {},
     "output_type": "display_data"
    }
   ],
   "source": [
    "mpl.rc('figure', figsize=(8, 7))\n",
    "mpl.__version__\n",
    "\n",
    "# Adjusting the style of matplotlib\n",
    "style.use('ggplot')\n",
    "\n",
    "close_px.plot(label='Porsche')\n",
    "mavg.plot(label='mavg')\n",
    "plt.legend()"
   ]
  },
  {
   "cell_type": "markdown",
   "metadata": {},
   "source": [
    "# Return Deviation\n",
    "Expected Return measures the mean, or expected value, of the probability distribution of investment returns."
   ]
  },
  {
   "cell_type": "code",
   "execution_count": 9,
   "metadata": {},
   "outputs": [
    {
     "data": {
      "text/plain": [
       "<matplotlib.axes._subplots.AxesSubplot at 0x1a1cc7a8d0>"
      ]
     },
     "execution_count": 9,
     "metadata": {},
     "output_type": "execute_result"
    },
    {
     "data": {
      "image/png": "[encoded data removed]",
      "text/plain": [
       "<Figure size 576x504 with 1 Axes>"
      ]
     },
     "metadata": {},
     "output_type": "display_data"
    }
   ],
   "source": [
    "rets = close_px / close_px.shift(1) - 1\n",
    "rets.plot(label='return')"
   ]
  },
  {
   "cell_type": "markdown",
   "metadata": {},
   "source": [
    "# Predict Stock Prices\n",
    "\n",
    "df = df_full.loc[:,['Close','Volume']] df['HL_PCT'] = (df_full['High'] - df_full['Low']) / df_full['Close'] * 100.0 df['PCT_change'] = (df_full['Close'] - df_full['Open']) / df_full['Open'] * 100.0"
   ]
  },
  {
   "cell_type": "code",
   "execution_count": 10,
   "metadata": {},
   "outputs": [],
   "source": [
    "df = df_full.loc[:,['Close','Volume','Low','High','Open']]\n"
   ]
  },
  {
   "cell_type": "markdown",
   "metadata": {},
   "source": [
    "# Preprossesing\n",
    "\n",
    "Drop missing values <br>\n",
    "Separating the label here, we want to predict the AdjClose <br>\n",
    "Scale the X so that everyone can have the same distribution for linear regression<br>\n",
    "Split data into train, validation and test set"
   ]
  },
  {
   "cell_type": "code",
   "execution_count": 12,
   "metadata": {},
   "outputs": [
    {
     "data": {
      "text/html": [
       "<div>\n",
       "<style scoped>\n",
       "    .dataframe tbody tr th:only-of-type {\n",
       "        vertical-align: middle;\n",
       "    }\n",
       "\n",
       "    .dataframe tbody tr th {\n",
       "        vertical-align: top;\n",
       "    }\n",
       "\n",
       "    .dataframe thead th {\n",
       "        text-align: right;\n",
       "    }\n",
       "</style>\n",
       "<table border=\"1\" class=\"dataframe\">\n",
       "  <thead>\n",
       "    <tr style=\"text-align: right;\">\n",
       "      <th></th>\n",
       "      <th>Close</th>\n",
       "      <th>Volume</th>\n",
       "      <th>Low</th>\n",
       "      <th>High</th>\n",
       "      <th>Open</th>\n",
       "    </tr>\n",
       "  </thead>\n",
       "  <tbody>\n",
       "  </tbody>\n",
       "</table>\n",
       "</div>"
      ],
      "text/plain": [
       "Empty DataFrame\n",
       "Columns: [Close, Volume, Low, High, Open]\n",
       "Index: []"
      ]
     },
     "execution_count": 12,
     "metadata": {},
     "output_type": "execute_result"
    }
   ],
   "source": [
    "# df.fillna(value=-99999, inplace=True)\n",
    "# Print Data rows which are nan\n",
    "df[df.isnull().any(axis=1)]"
   ]
  },
  {
   "cell_type": "code",
   "execution_count": 14,
   "metadata": {},
   "outputs": [],
   "source": [
    "# Separating the label here, we want to predict the AdjClose\n",
    "forecast_col = 'Close'\n",
    "df['label'] = df[forecast_col].shift(-1)\n",
    "df = df.drop(df[df.isnull().any(axis=1)].index)\n",
    "X = np.array(df.drop(['label'], 1))"
   ]
  },
  {
   "cell_type": "code",
   "execution_count": 15,
   "metadata": {},
   "outputs": [
    {
     "data": {
      "text/html": [
       "<div>\n",
       "<style scoped>\n",
       "    .dataframe tbody tr th:only-of-type {\n",
       "        vertical-align: middle;\n",
       "    }\n",
       "\n",
       "    .dataframe tbody tr th {\n",
       "        vertical-align: top;\n",
       "    }\n",
       "\n",
       "    .dataframe thead th {\n",
       "        text-align: right;\n",
       "    }\n",
       "</style>\n",
       "<table border=\"1\" class=\"dataframe\">\n",
       "  <thead>\n",
       "    <tr style=\"text-align: right;\">\n",
       "      <th></th>\n",
       "      <th>Close</th>\n",
       "      <th>Volume</th>\n",
       "      <th>Low</th>\n",
       "      <th>High</th>\n",
       "      <th>Open</th>\n",
       "      <th>label</th>\n",
       "    </tr>\n",
       "  </thead>\n",
       "  <tbody>\n",
       "    <tr>\n",
       "      <td>0</td>\n",
       "      <td>12.19</td>\n",
       "      <td>151885300</td>\n",
       "      <td>12.19</td>\n",
       "      <td>12.53</td>\n",
       "      <td>12.28</td>\n",
       "      <td>12.96</td>\n",
       "    </tr>\n",
       "    <tr>\n",
       "      <td>1</td>\n",
       "      <td>12.96</td>\n",
       "      <td>186503800</td>\n",
       "      <td>12.17</td>\n",
       "      <td>13.01</td>\n",
       "      <td>12.27</td>\n",
       "      <td>13.51</td>\n",
       "    </tr>\n",
       "    <tr>\n",
       "      <td>2</td>\n",
       "      <td>13.51</td>\n",
       "      <td>295402100</td>\n",
       "      <td>13.24</td>\n",
       "      <td>13.74</td>\n",
       "      <td>13.31</td>\n",
       "      <td>13.29</td>\n",
       "    </tr>\n",
       "    <tr>\n",
       "      <td>3</td>\n",
       "      <td>13.29</td>\n",
       "      <td>322327600</td>\n",
       "      <td>13.20</td>\n",
       "      <td>13.88</td>\n",
       "      <td>13.71</td>\n",
       "      <td>13.00</td>\n",
       "    </tr>\n",
       "    <tr>\n",
       "      <td>4</td>\n",
       "      <td>13.00</td>\n",
       "      <td>188262200</td>\n",
       "      <td>12.89</td>\n",
       "      <td>13.21</td>\n",
       "      <td>13.12</td>\n",
       "      <td>13.24</td>\n",
       "    </tr>\n",
       "    <tr>\n",
       "      <td>...</td>\n",
       "      <td>...</td>\n",
       "      <td>...</td>\n",
       "      <td>...</td>\n",
       "      <td>...</td>\n",
       "      <td>...</td>\n",
       "      <td>...</td>\n",
       "    </tr>\n",
       "    <tr>\n",
       "      <td>2681</td>\n",
       "      <td>204.16</td>\n",
       "      <td>25873300</td>\n",
       "      <td>203.53</td>\n",
       "      <td>208.55</td>\n",
       "      <td>207.86</td>\n",
       "      <td>205.53</td>\n",
       "    </tr>\n",
       "    <tr>\n",
       "      <td>2682</td>\n",
       "      <td>205.53</td>\n",
       "      <td>15938800</td>\n",
       "      <td>203.32</td>\n",
       "      <td>205.72</td>\n",
       "      <td>204.10</td>\n",
       "      <td>209.01</td>\n",
       "    </tr>\n",
       "    <tr>\n",
       "      <td>2683</td>\n",
       "      <td>209.01</td>\n",
       "      <td>20990500</td>\n",
       "      <td>206.66</td>\n",
       "      <td>209.32</td>\n",
       "      <td>208.50</td>\n",
       "      <td>208.74</td>\n",
       "    </tr>\n",
       "    <tr>\n",
       "      <td>2684</td>\n",
       "      <td>208.74</td>\n",
       "      <td>21143400</td>\n",
       "      <td>207.20</td>\n",
       "      <td>210.45</td>\n",
       "      <td>210.16</td>\n",
       "      <td>205.70</td>\n",
       "    </tr>\n",
       "    <tr>\n",
       "      <td>2685</td>\n",
       "      <td>205.70</td>\n",
       "      <td>20023000</td>\n",
       "      <td>204.22</td>\n",
       "      <td>206.98</td>\n",
       "      <td>206.43</td>\n",
       "      <td>209.19</td>\n",
       "    </tr>\n",
       "  </tbody>\n",
       "</table>\n",
       "<p>2686 rows × 6 columns</p>\n",
       "</div>"
      ],
      "text/plain": [
       "       Close     Volume     Low    High    Open   label\n",
       "0      12.19  151885300   12.19   12.53   12.28   12.96\n",
       "1      12.96  186503800   12.17   13.01   12.27   13.51\n",
       "2      13.51  295402100   13.24   13.74   13.31   13.29\n",
       "3      13.29  322327600   13.20   13.88   13.71   13.00\n",
       "4      13.00  188262200   12.89   13.21   13.12   13.24\n",
       "...      ...        ...     ...     ...     ...     ...\n",
       "2681  204.16   25873300  203.53  208.55  207.86  205.53\n",
       "2682  205.53   15938800  203.32  205.72  204.10  209.01\n",
       "2683  209.01   20990500  206.66  209.32  208.50  208.74\n",
       "2684  208.74   21143400  207.20  210.45  210.16  205.70\n",
       "2685  205.70   20023000  204.22  206.98  206.43  209.19\n",
       "\n",
       "[2686 rows x 6 columns]"
      ]
     },
     "execution_count": 15,
     "metadata": {},
     "output_type": "execute_result"
    }
   ],
   "source": [
    "df\n"
   ]
  },
  {
   "cell_type": "code",
   "execution_count": 16,
   "metadata": {},
   "outputs": [],
   "source": [
    "# We want to separate 10 percent of the data to forecast\n",
    "forecast_out = int(math.ceil(0.1 * len(df)))\n"
   ]
  },
  {
   "cell_type": "code",
   "execution_count": 18,
   "metadata": {},
   "outputs": [],
   "source": [
    "# Scale the X so that everyone can have the same distribution for linear regression\n",
    "X = preprocessing.scale(X)"
   ]
  },
  {
   "cell_type": "code",
   "execution_count": 19,
   "metadata": {},
   "outputs": [],
   "source": [
    "# Split the data into trainings data and test data\n",
    "X_test = X[-forecast_out:]\n",
    "X_train = X[:-forecast_out]"
   ]
  },
  {
   "cell_type": "code",
   "execution_count": 20,
   "metadata": {},
   "outputs": [],
   "source": [
    "# Separate label and identify it as y\n",
    "y = np.array(df['label'])\n",
    "y_train = y[:-forecast_out]\n",
    "y_test = y[-forecast_out:]"
   ]
  },
  {
   "cell_type": "markdown",
   "metadata": {},
   "source": [
    "# Prediction¶\n"
   ]
  },
  {
   "cell_type": "code",
   "execution_count": 21,
   "metadata": {},
   "outputs": [],
   "source": [
    "\n",
    "from sklearn.linear_model import LinearRegression\n",
    "from sklearn.neighbors import KNeighborsRegressor\n",
    "\n",
    "from sklearn.linear_model import Ridge\n",
    "from sklearn.preprocessing import PolynomialFeatures\n",
    "from sklearn.pipeline import make_pipeline"
   ]
  },
  {
   "cell_type": "markdown",
   "metadata": {},
   "source": [
    "## Simple Linear Analysis¶\n"
   ]
  },
  {
   "cell_type": "code",
   "execution_count": 22,
   "metadata": {},
   "outputs": [
    {
     "data": {
      "text/plain": [
       "LinearRegression(copy_X=True, fit_intercept=True, n_jobs=-1, normalize=False)"
      ]
     },
     "execution_count": 22,
     "metadata": {},
     "output_type": "execute_result"
    }
   ],
   "source": [
    "# Linear regression\n",
    "clfreg = LinearRegression(n_jobs=-1)\n",
    "clfreg.fit(X_train, y_train)"
   ]
  },
  {
   "cell_type": "markdown",
   "metadata": {},
   "source": [
    "## Quadratic Discriminant Analysis¶\n"
   ]
  },
  {
   "cell_type": "code",
   "execution_count": 23,
   "metadata": {},
   "outputs": [
    {
     "data": {
      "text/plain": [
       "Pipeline(memory=None,\n",
       "         steps=[('polynomialfeatures',\n",
       "                 PolynomialFeatures(degree=2, include_bias=True,\n",
       "                                    interaction_only=False, order='C')),\n",
       "                ('ridge',\n",
       "                 Ridge(alpha=1.0, copy_X=True, fit_intercept=True,\n",
       "                       max_iter=None, normalize=False, random_state=None,\n",
       "                       solver='auto', tol=0.001))],\n",
       "         verbose=False)"
      ]
     },
     "execution_count": 23,
     "metadata": {},
     "output_type": "execute_result"
    }
   ],
   "source": [
    "# Quadratic Regression 2\n",
    "clfpoly2 = make_pipeline(PolynomialFeatures(2), Ridge())\n",
    "clfpoly2.fit(X_train, y_train)"
   ]
  },
  {
   "cell_type": "code",
   "execution_count": 24,
   "metadata": {},
   "outputs": [
    {
     "data": {
      "text/plain": [
       "Pipeline(memory=None,\n",
       "         steps=[('polynomialfeatures',\n",
       "                 PolynomialFeatures(degree=3, include_bias=True,\n",
       "                                    interaction_only=False, order='C')),\n",
       "                ('ridge',\n",
       "                 Ridge(alpha=1.0, copy_X=True, fit_intercept=True,\n",
       "                       max_iter=None, normalize=False, random_state=None,\n",
       "                       solver='auto', tol=0.001))],\n",
       "         verbose=False)"
      ]
     },
     "execution_count": 24,
     "metadata": {},
     "output_type": "execute_result"
    }
   ],
   "source": [
    "\n",
    "# Quadratic Regression 3\n",
    "clfpoly3 = make_pipeline(PolynomialFeatures(3), Ridge())\n",
    "clfpoly3.fit(X_train, y_train)"
   ]
  },
  {
   "cell_type": "markdown",
   "metadata": {},
   "source": [
    "## K Nearest Neighbor¶\n"
   ]
  },
  {
   "cell_type": "code",
   "execution_count": 25,
   "metadata": {},
   "outputs": [
    {
     "data": {
      "text/plain": [
       "KNeighborsRegressor(algorithm='auto', leaf_size=30, metric='minkowski',\n",
       "                    metric_params=None, n_jobs=None, n_neighbors=2, p=2,\n",
       "                    weights='uniform')"
      ]
     },
     "execution_count": 25,
     "metadata": {},
     "output_type": "execute_result"
    }
   ],
   "source": [
    "# KNN Regression\n",
    "clfknn = KNeighborsRegressor(n_neighbors=2)\n",
    "clfknn.fit(X_train, y_train)"
   ]
  },
  {
   "cell_type": "markdown",
   "metadata": {},
   "source": [
    "# Evaluation¶\n"
   ]
  },
  {
   "cell_type": "code",
   "execution_count": 26,
   "metadata": {},
   "outputs": [
    {
     "data": {
      "text/html": [
       "<div>\n",
       "<style scoped>\n",
       "    .dataframe tbody tr th:only-of-type {\n",
       "        vertical-align: middle;\n",
       "    }\n",
       "\n",
       "    .dataframe tbody tr th {\n",
       "        vertical-align: top;\n",
       "    }\n",
       "\n",
       "    .dataframe thead th {\n",
       "        text-align: right;\n",
       "    }\n",
       "</style>\n",
       "<table border=\"1\" class=\"dataframe\">\n",
       "  <thead>\n",
       "    <tr style=\"text-align: right;\">\n",
       "      <th></th>\n",
       "      <th>Close</th>\n",
       "      <th>Volume</th>\n",
       "      <th>Low</th>\n",
       "      <th>High</th>\n",
       "      <th>Open</th>\n",
       "      <th>label</th>\n",
       "    </tr>\n",
       "  </thead>\n",
       "  <tbody>\n",
       "    <tr>\n",
       "      <td>2417</td>\n",
       "      <td>207.25</td>\n",
       "      <td>22525500</td>\n",
       "      <td>204.52</td>\n",
       "      <td>207.81</td>\n",
       "      <td>206.05</td>\n",
       "      <td>208.88</td>\n",
       "    </tr>\n",
       "    <tr>\n",
       "      <td>2418</td>\n",
       "      <td>208.88</td>\n",
       "      <td>23492600</td>\n",
       "      <td>207.20</td>\n",
       "      <td>209.78</td>\n",
       "      <td>209.53</td>\n",
       "      <td>207.53</td>\n",
       "    </tr>\n",
       "    <tr>\n",
       "      <td>2419</td>\n",
       "      <td>207.53</td>\n",
       "      <td>24611200</td>\n",
       "      <td>206.67</td>\n",
       "      <td>209.10</td>\n",
       "      <td>207.36</td>\n",
       "      <td>208.87</td>\n",
       "    </tr>\n",
       "    <tr>\n",
       "      <td>2420</td>\n",
       "      <td>208.87</td>\n",
       "      <td>25890900</td>\n",
       "      <td>207.70</td>\n",
       "      <td>210.95</td>\n",
       "      <td>209.31</td>\n",
       "      <td>209.75</td>\n",
       "    </tr>\n",
       "    <tr>\n",
       "      <td>2421</td>\n",
       "      <td>209.75</td>\n",
       "      <td>20748000</td>\n",
       "      <td>208.26</td>\n",
       "      <td>210.56</td>\n",
       "      <td>210.16</td>\n",
       "      <td>210.24</td>\n",
       "    </tr>\n",
       "    <tr>\n",
       "      <td>...</td>\n",
       "      <td>...</td>\n",
       "      <td>...</td>\n",
       "      <td>...</td>\n",
       "      <td>...</td>\n",
       "      <td>...</td>\n",
       "      <td>...</td>\n",
       "    </tr>\n",
       "    <tr>\n",
       "      <td>2681</td>\n",
       "      <td>204.16</td>\n",
       "      <td>25873300</td>\n",
       "      <td>203.53</td>\n",
       "      <td>208.55</td>\n",
       "      <td>207.86</td>\n",
       "      <td>205.53</td>\n",
       "    </tr>\n",
       "    <tr>\n",
       "      <td>2682</td>\n",
       "      <td>205.53</td>\n",
       "      <td>15938800</td>\n",
       "      <td>203.32</td>\n",
       "      <td>205.72</td>\n",
       "      <td>204.10</td>\n",
       "      <td>209.01</td>\n",
       "    </tr>\n",
       "    <tr>\n",
       "      <td>2683</td>\n",
       "      <td>209.01</td>\n",
       "      <td>20990500</td>\n",
       "      <td>206.66</td>\n",
       "      <td>209.32</td>\n",
       "      <td>208.50</td>\n",
       "      <td>208.74</td>\n",
       "    </tr>\n",
       "    <tr>\n",
       "      <td>2684</td>\n",
       "      <td>208.74</td>\n",
       "      <td>21143400</td>\n",
       "      <td>207.20</td>\n",
       "      <td>210.45</td>\n",
       "      <td>210.16</td>\n",
       "      <td>205.70</td>\n",
       "    </tr>\n",
       "    <tr>\n",
       "      <td>2685</td>\n",
       "      <td>205.70</td>\n",
       "      <td>20023000</td>\n",
       "      <td>204.22</td>\n",
       "      <td>206.98</td>\n",
       "      <td>206.43</td>\n",
       "      <td>209.19</td>\n",
       "    </tr>\n",
       "  </tbody>\n",
       "</table>\n",
       "<p>269 rows × 6 columns</p>\n",
       "</div>"
      ],
      "text/plain": [
       "       Close    Volume     Low    High    Open   label\n",
       "2417  207.25  22525500  204.52  207.81  206.05  208.88\n",
       "2418  208.88  23492600  207.20  209.78  209.53  207.53\n",
       "2419  207.53  24611200  206.67  209.10  207.36  208.87\n",
       "2420  208.87  25890900  207.70  210.95  209.31  209.75\n",
       "2421  209.75  20748000  208.26  210.56  210.16  210.24\n",
       "...      ...       ...     ...     ...     ...     ...\n",
       "2681  204.16  25873300  203.53  208.55  207.86  205.53\n",
       "2682  205.53  15938800  203.32  205.72  204.10  209.01\n",
       "2683  209.01  20990500  206.66  209.32  208.50  208.74\n",
       "2684  208.74  21143400  207.20  210.45  210.16  205.70\n",
       "2685  205.70  20023000  204.22  206.98  206.43  209.19\n",
       "\n",
       "[269 rows x 6 columns]"
      ]
     },
     "execution_count": 26,
     "metadata": {},
     "output_type": "execute_result"
    }
   ],
   "source": [
    "df[-forecast_out:]\n"
   ]
  },
  {
   "cell_type": "code",
   "execution_count": 27,
   "metadata": {},
   "outputs": [
    {
     "data": {
      "text/plain": [
       "array([ 2.02023839, -0.97743835,  2.00379205,  1.99772227,  1.99905602])"
      ]
     },
     "execution_count": 27,
     "metadata": {},
     "output_type": "execute_result"
    }
   ],
   "source": [
    "X_test[0]\n"
   ]
  },
  {
   "cell_type": "code",
   "execution_count": 28,
   "metadata": {},
   "outputs": [
    {
     "data": {
      "text/plain": [
       "208.88"
      ]
     },
     "execution_count": 28,
     "metadata": {},
     "output_type": "execute_result"
    }
   ],
   "source": [
    "y_test[0]\n"
   ]
  },
  {
   "cell_type": "code",
   "execution_count": 29,
   "metadata": {},
   "outputs": [
    {
     "data": {
      "text/plain": [
       "array([207.29486236])"
      ]
     },
     "execution_count": 29,
     "metadata": {},
     "output_type": "execute_result"
    }
   ],
   "source": [
    "clfreg.predict([X_test[0]])\n"
   ]
  },
  {
   "cell_type": "code",
   "execution_count": 30,
   "metadata": {},
   "outputs": [
    {
     "name": "stdout",
     "output_type": "stream",
     "text": [
      "The linear regression confidence is  0.9693164807427905\n",
      "The quadratic regression 2 confidence is  0.9689881645089958\n",
      "The quadratic regression 3 confidence is  0.9620271833342017\n",
      "The knn regression confidence is  0.8648433993565937\n"
     ]
    }
   ],
   "source": [
    "confidencereg = clfreg.score(X_test, y_test)\n",
    "confidencepoly2 = clfpoly2.score(X_test,y_test)\n",
    "confidencepoly3 = clfpoly3.score(X_test,y_test)\n",
    "confidenceknn = clfknn.score(X_test, y_test)\n",
    "# results\n",
    "print('The linear regression confidence is ', confidencereg)\n",
    "print('The quadratic regression 2 confidence is ', confidencepoly2)\n",
    "print('The quadratic regression 3 confidence is ', confidencepoly3)\n",
    "print('The knn regression confidence is ', confidenceknn)"
   ]
  },
  {
   "cell_type": "code",
   "execution_count": 31,
   "metadata": {},
   "outputs": [],
   "source": [
    "forecast_set = clfpoly3.predict(X_test)\n",
    "df['Forecast'] = np.nan\n",
    "index = len(df)- forecast_out\n",
    "for i in forecast_set:\n",
    "    df['Forecast'].at[index] = i\n",
    "    index += 1"
   ]
  },
  {
   "cell_type": "code",
   "execution_count": 32,
   "metadata": {},
   "outputs": [
    {
     "data": {
      "image/png": "[encoded data removed]",
      "text/plain": [
       "<Figure size 576x504 with 1 Axes>"
      ]
     },
     "metadata": {},
     "output_type": "display_data"
    }
   ],
   "source": [
    "df['label'].tail(50).plot()\n",
    "df['Forecast'].tail(50).plot()\n",
    "plt.legend(loc=4)\n",
    "plt.xlabel('Date')\n",
    "plt.ylabel('Price')\n",
    "plt.show()"
   ]
  },
  {
   "cell_type": "markdown",
   "metadata": {},
   "source": [
    "# Results\n",
    "\n",
    "As you can see in the results of the Notebook even if the models seem to be not to bad, they are. So if you look closer, they just mimic what happend the day before. From that we can see that a regression model is not good enough to predict stock prices. To do that you should try to use other models and most important its not enough to use only past stock data. Therefore you could try to use Sentiment Analysis on twitter or news data to improve the model."
   ]
  }
 ],
 "metadata": {
  "kernelspec": {
   "display_name": "Python 3",
   "language": "python",
   "name": "python3"
  },
  "language_info": {
   "codemirror_mode": {
    "name": "ipython",
    "version": 3
   },
   "file_extension": ".py",
   "mimetype": "text/x-python",
   "name": "python",
   "nbconvert_exporter": "python",
   "pygments_lexer": "ipython3",
   "version": "3.7.4"
  },
  "pycharm": {
   "stem_cell": {
    "cell_type": "raw",
    "metadata": {
     "collapsed": false
    },
    "source": []
   }
  }
 },
 "nbformat": 4,
 "nbformat_minor": 1
}
